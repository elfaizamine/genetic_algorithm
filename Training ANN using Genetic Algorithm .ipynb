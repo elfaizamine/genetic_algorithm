{
 "cells": [
  {
   "cell_type": "markdown",
   "metadata": {},
   "source": [
    "## Training Feed Forward Neural Network \n",
    "#### BackPropagation and Gradient Descent vs Genetic Algorithm\n",
    "\n",
    "\n",
    "The goal of this project is to asses the use of genetic algorithm in training neural network and updating weights vs the use\n",
    "of backpropagation algorithm."
   ]
  },
  {
   "cell_type": "code",
   "execution_count": 1,
   "metadata": {},
   "outputs": [],
   "source": [
    "import matplotlib.pyplot as plt\n",
    "from load_data import load_dataset\n",
    "import backprop_functions as bp\n",
    "from PIL import Image\n",
    "import seaborn as sns\n",
    "import numpy as np\n",
    "import h5py\n",
    "import scipy\n",
    "import random\n",
    "%matplotlib inline"
   ]
  },
  {
   "cell_type": "code",
   "execution_count": 2,
   "metadata": {},
   "outputs": [],
   "source": [
    "# import genetic algorithms library\n",
    "from deap import base\n",
    "from deap import creator\n",
    "from deap import tools\n",
    "import elitism\n",
    "from random import randint"
   ]
  },
  {
   "cell_type": "code",
   "execution_count": 3,
   "metadata": {},
   "outputs": [],
   "source": [
    "# Loading the data (cat/non-cat)\n",
    "train_set_x_orig, train_set_y, test_set_x_orig, test_set_y, classes = load_dataset()"
   ]
  },
  {
   "cell_type": "code",
   "execution_count": 4,
   "metadata": {},
   "outputs": [
    {
     "name": "stdout",
     "output_type": "stream",
     "text": [
      "y = [1], it's a 'cat' picture.\n"
     ]
    },
    {
     "data": {
      "image/png": "[encoded data removed]",
      "text/plain": [
       "<Figure size 432x288 with 1 Axes>"
      ]
     },
     "metadata": {
      "needs_background": "light"
     },
     "output_type": "display_data"
    }
   ],
   "source": [
    "# Example of a picture\n",
    "index = 2\n",
    "plt.imshow(train_set_x_orig[index])\n",
    "print (\"y = \" + str(train_set_y[:, index]) + \", it's a '\" + classes[np.squeeze(train_set_y[:, index])].decode(\"utf-8\") +  \"' picture.\")"
   ]
  },
  {
   "cell_type": "code",
   "execution_count": 5,
   "metadata": {},
   "outputs": [
    {
     "name": "stdout",
     "output_type": "stream",
     "text": [
      "Number of training examples: m_train = 209\n",
      "Number of testing examples: m_test = 50\n",
      "Height/Width of each image: num_px = 64\n",
      "Each image is of size: (64, 64, 3)\n",
      "train_set_x shape: (209, 64, 64, 3)\n",
      "train_set_y shape: (1, 209)\n",
      "test_set_x shape: (50, 64, 64, 3)\n",
      "test_set_y shape: (1, 50)\n"
     ]
    }
   ],
   "source": [
    "# Raw Train and Test Shapes \n",
    "m_train = train_set_x_orig.shape[0]\n",
    "m_test = test_set_x_orig.shape[0]\n",
    "num_px = train_set_x_orig.shape[1]\n",
    "\n",
    "print (\"Number of training examples: m_train = \" + str(m_train))\n",
    "print (\"Number of testing examples: m_test = \" + str(m_test))\n",
    "print (\"Height/Width of each image: num_px = \" + str(num_px))\n",
    "print (\"Each image is of size: (\" + str(num_px) + \", \" + str(num_px) + \", 3)\")\n",
    "print (\"train_set_x shape: \" + str(train_set_x_orig.shape))\n",
    "print (\"train_set_y shape: \" + str(train_set_y.shape))\n",
    "print (\"test_set_x shape: \" + str(test_set_x_orig.shape))\n",
    "print (\"test_set_y shape: \" + str(test_set_y.shape))"
   ]
  },
  {
   "cell_type": "code",
   "execution_count": 6,
   "metadata": {},
   "outputs": [
    {
     "name": "stdout",
     "output_type": "stream",
     "text": [
      "train_set_x_flatten shape: (12288, 209)\n",
      "train_set_y shape: (1, 209)\n",
      "test_set_x_flatten shape: (12288, 50)\n",
      "test_set_y shape: (1, 50)\n",
      "sanity check after reshaping: [17 31 56 22 33]\n"
     ]
    }
   ],
   "source": [
    "# Reshape the training and test examples\n",
    "train_set_x_flatten = train_set_x_orig.reshape(train_set_x_orig.shape[0], -1).T\n",
    "test_set_x_flatten = test_set_x_orig.reshape(test_set_x_orig.shape[0], -1).T\n",
    "# Standarize the inputs\n",
    "train_set_x = train_set_x_flatten/255.\n",
    "test_set_x = test_set_x_flatten/255.\n",
    "\n",
    "print (\"train_set_x_flatten shape: \" + str(train_set_x_flatten.shape))\n",
    "print (\"train_set_y shape: \" + str(train_set_y.shape))\n",
    "print (\"test_set_x_flatten shape: \" + str(test_set_x_flatten.shape))\n",
    "print (\"test_set_y shape: \" + str(test_set_y.shape))\n",
    "print (\"sanity check after reshaping: \" + str(train_set_x_flatten[0:5,0]))"
   ]
  },
  {
   "cell_type": "markdown",
   "metadata": {},
   "source": [
    "### BackPropagation \n",
    "\n",
    "This BackPropagation part is taken from DeepLearning.ai Course"
   ]
  },
  {
   "cell_type": "code",
   "execution_count": 7,
   "metadata": {},
   "outputs": [],
   "source": [
    "def model(X_train, Y_train, X_test, Y_test, num_iterations = 2000, learning_rate = 0.5, print_cost = False):\n",
    "    \"\"\"\n",
    "    Builds the logistic regression model by calling the function you've implemented previously\n",
    "    \n",
    "    Arguments:\n",
    "    X_train -- training set represented by a numpy array of shape (num_px * num_px * 3, m_train)\n",
    "    Y_train -- training labels represented by a numpy array (vector) of shape (1, m_train)\n",
    "    X_test -- test set represented by a numpy array of shape (num_px * num_px * 3, m_test)\n",
    "    Y_test -- test labels represented by a numpy array (vector) of shape (1, m_test)\n",
    "    num_iterations -- hyperparameter representing the number of iterations to optimize the parameters\n",
    "    learning_rate -- hyperparameter representing the learning rate used in the update rule of optimize()\n",
    "    print_cost -- Set to true to print the cost every 100 iterations\n",
    "    \n",
    "    Returns:\n",
    "    d -- dictionary containing information about the model.\n",
    "    \"\"\"\n",
    "        \n",
    "    # initialize parameters with zeros \n",
    "    w, b = bp.initialize_with_zeros(X_train.shape[0])\n",
    "\n",
    "    # Gradient descent \n",
    "    parameters, grads, costs = bp.optimize(w, b, X_train, Y_train, num_iterations, learning_rate, print_cost)\n",
    "    \n",
    "    # Retrieve parameters w and b from dictionary \"parameters\"\n",
    "    w = parameters[\"w\"]\n",
    "    b = parameters[\"b\"]\n",
    "    \n",
    "    # Predict test/train set examples \n",
    "    Y_prediction_test = bp.predict(w, b, X_test)\n",
    "    Y_prediction_train = bp.predict(w, b, X_train)\n",
    "\n",
    "    ### END CODE HERE ###\n",
    "\n",
    "    # Print train/test Errors\n",
    "    print(\"train accuracy: {} %\".format(100 - np.mean(np.abs(Y_prediction_train - Y_train)) * 100))\n",
    "    print(\"test accuracy: {} %\".format(100 - np.mean(np.abs(Y_prediction_test - Y_test)) * 100))\n",
    "\n",
    "    \n",
    "    d = {\"costs\": costs,\n",
    "         \"Y_prediction_test\": Y_prediction_test, \n",
    "         \"Y_prediction_train\" : Y_prediction_train, \n",
    "         \"w\" : w, \n",
    "         \"b\" : b,\n",
    "         \"learning_rate\" : learning_rate,\n",
    "         \"num_iterations\": num_iterations}\n",
    "    \n",
    "    return d"
   ]
  },
  {
   "cell_type": "code",
   "execution_count": 8,
   "metadata": {},
   "outputs": [
    {
     "name": "stdout",
     "output_type": "stream",
     "text": [
      "Cost after iteration 0: 0.693147\n",
      "Cost after iteration 100: 0.584508\n",
      "Cost after iteration 200: 0.466949\n",
      "Cost after iteration 300: 0.376007\n",
      "Cost after iteration 400: 0.331463\n",
      "Cost after iteration 500: 0.303273\n",
      "Cost after iteration 600: 0.279880\n",
      "Cost after iteration 700: 0.260042\n",
      "Cost after iteration 800: 0.242941\n",
      "Cost after iteration 900: 0.228004\n",
      "Cost after iteration 1000: 0.214820\n",
      "Cost after iteration 1100: 0.203078\n",
      "Cost after iteration 1200: 0.192544\n",
      "Cost after iteration 1300: 0.183033\n",
      "Cost after iteration 1400: 0.174399\n",
      "Cost after iteration 1500: 0.166521\n",
      "Cost after iteration 1600: 0.159305\n",
      "Cost after iteration 1700: 0.152667\n",
      "Cost after iteration 1800: 0.146542\n",
      "Cost after iteration 1900: 0.140872\n",
      "train accuracy: 99.04306220095694 %\n",
      "test accuracy: 70.0 %\n"
     ]
    }
   ],
   "source": [
    "result = model(train_set_x, train_set_y, test_set_x, test_set_y, num_iterations = 2000, learning_rate = 0.005, print_cost = True)"
   ]
  },
  {
   "cell_type": "markdown",
   "metadata": {},
   "source": [
    "### Genetic Algorithm \n",
    "\n",
    "In this part I am going to train a one layer neural network using genetic algorithm. \n",
    "In other words, finding the optimal set of values \"Weight Vector\" that will minimize the cost function simply through iteration and Fitness values.\n",
    "\n",
    "- The chromosome representation of the GA will the the weight vector itself of the Neural Network.\n",
    "- We will start with a population of chromosome (potential solutions) of POPULATION_SIZE.\n",
    "- Apply a selection process \"Tournament selection\" to choose the best parents of the next generation.\n",
    "- Apply a crossover process \"SimulatedBinaryBounded\" within boundaries BOUND_LOW, BOUND_UP\n",
    "- Apply a mutation process \"mutPolynomialBounded\" within boundaries BOUND_LOW, BOUND_UP\n",
    "- Use elitism to pass the x best solution fom generation G to G+1 with no modification.\n",
    "- Repeat the process until a stopping condition is reached : here is MAX_GENERATIONS."
   ]
  },
  {
   "cell_type": "code",
   "execution_count": 8,
   "metadata": {},
   "outputs": [],
   "source": [
    "# function that create one individual using random real values between low and up\n",
    "def randomFloat(low , up):\n",
    "    return [random.uniform(l, u) for l, u in zip([low] * (DIMENSIONS+1), [up] * (DIMENSIONS+1))]\n",
    "\n",
    "# Fitness function : score that will let the GA knows wich solution to choose to be the parents of the next generation\n",
    "def cross_entropy_loss(individual, X_train=train_set_x, Y_train=train_set_y) :\n",
    "    \n",
    "    eps = 1e-5\n",
    "    \n",
    "    m = X_train.shape[1]\n",
    "    w = np.array(individual[:-1]) \n",
    "    b = individual[-1]\n",
    "    A = bp.sigmoid(np.dot(w.T,X_train)+b)\n",
    "    \n",
    "    cost = round(-(1/m) * np.sum(Y_train*np.log(A+eps)+(1-Y_train)*np.log(1-A+eps)),3) ,\n",
    "    \n",
    "    return cost"
   ]
  },
  {
   "cell_type": "code",
   "execution_count": 59,
   "metadata": {},
   "outputs": [],
   "source": [
    "# Parameters of the Genetic Algorithms\n",
    "DIMENSIONS = train_set_x.shape[0] # Length of chromosome thar reprensent the weights\n",
    "BOUND_LOW, BOUND_UP = -0.1, 0.1 # Boundaries of weight values\n",
    "POPULATION_SIZE = 100 # Population size\n",
    "P_CROSSOVER = 0.7  # probability for crossover\n",
    "P_MUTATION = 0.3   # probability for mutating an individual\n",
    "MAX_GENERATIONS = 100 # max generations to ierate\n",
    "HALL_OF_FAME_SIZE = 20 # Number of individuals to pass from G to G+1 without crossover nor mutation \n",
    "CROWDING_FACTOR = 10.0  # crowding factor for crossover and mutation"
   ]
  },
  {
   "cell_type": "code",
   "execution_count": 60,
   "metadata": {},
   "outputs": [],
   "source": [
    "random.seed(42)\n",
    "\n",
    "# Definition of algorithms to compute the GA pipeline using DEAP\n",
    "toolbox = base.Toolbox()\n",
    "\n",
    "creator.create(\"FitnessMin\", base.Fitness, weights=(-1.0,))\n",
    "creator.create(\"Individual\", list, fitness=creator.FitnessMin)\n",
    "toolbox.register(\"attrFloat\", randomFloat, BOUND_LOW, BOUND_UP)\n",
    "toolbox.register(\"individualCreator\", tools.initIterate, creator.Individual, toolbox.attrFloat)\n",
    "toolbox.register(\"populationCreator\", tools.initRepeat, list, toolbox.individualCreator)\n",
    "toolbox.register(\"evaluate\", cross_entropy_loss)\n",
    "toolbox.register(\"select\", tools.selTournament,tournsize = 4)\n",
    "toolbox.register(\"mate\",  tools.cxSimulatedBinaryBounded, low=BOUND_LOW, up=BOUND_UP, eta=CROWDING_FACTOR)\n",
    "toolbox.register(\"mutate\", tools.mutPolynomialBounded, low=BOUND_LOW, up=BOUND_UP, eta=CROWDING_FACTOR, indpb=10.0/DIMENSIONS)"
   ]
  },
  {
   "cell_type": "code",
   "execution_count": 31,
   "metadata": {},
   "outputs": [],
   "source": [
    "def model(toolbox, X_train, Y_train, X_test, Y_test):\n",
    "    \"\"\"\n",
    "    Builds the logistic regression model by calling the function you've implemented previously but training with GA algorithm\n",
    "        \n",
    "    Arguments:\n",
    "    X_train -- training set represented by a numpy array of shape (num_px * num_px * 3, m_train)\n",
    "    Y_train -- training labels represented by a numpy array (vector) of shape (1, m_train)\n",
    "    X_test -- test set represented by a numpy array of shape (num_px * num_px * 3, m_test)\n",
    "    Y_test -- test labels represented by a numpy array (vector) of shape (1, m_test)\n",
    "    toolbox -- GA class that saves optimisation parameters and algorithms to be used later\n",
    "    \n",
    "    Returns:\n",
    "    d -- dictionary containing information about the model.\n",
    "    \"\"\"    \n",
    "    population = toolbox.populationCreator(n=POPULATION_SIZE)\n",
    "    \n",
    "    # prepare the statistics object:\n",
    "    stats = tools.Statistics(lambda ind: ind.fitness.values)\n",
    "    stats.register(\"min\", np.min)\n",
    "    stats.register(\"avg\", np.mean)\n",
    "\n",
    "    # define the hall-of-fame object:\n",
    "    hof = tools.HallOfFame(HALL_OF_FAME_SIZE)\n",
    "\n",
    "    # perform the Genetic Algorithm flow with elitism:\n",
    "    population, logbook = elitism.eaSimpleWithElitism(population, toolbox, cxpb=P_CROSSOVER, mutpb=P_MUTATION,\n",
    "                                              ngen=MAX_GENERATIONS, stats=stats, halloffame=hof, verbose=True)\n",
    "       \n",
    "    # Infos on best solution found:\n",
    "    best = hof.items[0]\n",
    "    \n",
    "    # extract statistics:\n",
    "    minFitnessValues, meanFitnessValues = logbook.select(\"min\", \"avg\")\n",
    "\n",
    "    # plot statistics:\n",
    "    sns.set_style(\"whitegrid\")\n",
    "    plt.plot(minFitnessValues, color='red')\n",
    "    plt.plot(meanFitnessValues, color='green')\n",
    "    plt.xlabel('Generation')\n",
    "    plt.ylabel('Min / Average Fitness')\n",
    "    plt.title('Min and Average fitness over Generations')\n",
    "\n",
    "    plt.show()\n",
    "  \n",
    "    # Retrieve parameters w and b from dictionary \"parameters\"\n",
    "    w = np.array(best[:-1])\n",
    "    b = best[-1]\n",
    "    \n",
    "    # Predict test/train \n",
    "    Y_prediction_test = bp.predict(w, b, X_test)\n",
    "    Y_prediction_train = bp.predict(w, b, X_train)\n",
    "\n",
    "    print(\"train accuracy: {} %\".format(100 - np.mean(np.abs(Y_prediction_train - Y_train)) * 100))\n",
    "    print(\"test accuracy: {} %\".format(100 - np.mean(np.abs(Y_prediction_test - Y_test)) * 100))\n",
    "    \n",
    "    d = {\"costs\": best.fitness.values[0],\n",
    "         \"Y_prediction_test\": Y_prediction_test, \n",
    "         \"Y_prediction_train\" : Y_prediction_train, \n",
    "         \"w\" : w, \n",
    "         \"b\" : b}\n",
    "    \n",
    "    return d"
   ]
  },
  {
   "cell_type": "code",
   "execution_count": 33,
   "metadata": {
    "scrolled": true
   },
   "outputs": [
    {
     "name": "stdout",
     "output_type": "stream",
     "text": [
      "gen\tnevals\tmin  \tavg    \n",
      "0  \t100   \t2.241\t3.94754\n",
      "1  \t58    \t2.211\t2.99987\n",
      "2  \t65    \t1.789\t2.83352\n",
      "3  \t55    \t1.789\t2.60072\n",
      "4  \t55    \t1.602\t2.42983\n",
      "5  \t62    \t1.602\t2.33102\n",
      "6  \t52    \t1.602\t2.37952\n",
      "7  \t57    \t1.539\t2.04481\n",
      "8  \t51    \t1.539\t2.04603\n",
      "9  \t58    \t1.539\t2.12531\n",
      "10 \t61    \t1.403\t1.9389 \n",
      "11 \t60    \t1.403\t1.95289\n",
      "12 \t51    \t1.403\t1.83036\n",
      "13 \t61    \t1.384\t1.86647\n",
      "14 \t58    \t1.376\t1.56289\n",
      "15 \t55    \t1.349\t1.4422 \n",
      "16 \t54    \t1.344\t1.39843\n",
      "17 \t54    \t1.344\t1.37828\n",
      "18 \t54    \t1.336\t1.36181\n",
      "19 \t58    \t1.329\t1.3518 \n",
      "20 \t47    \t1.326\t1.34517\n",
      "21 \t57    \t1.326\t1.34066\n",
      "22 \t56    \t1.326\t1.33443\n",
      "23 \t58    \t1.316\t1.3306 \n",
      "24 \t56    \t1.313\t1.32599\n",
      "25 \t50    \t1.311\t1.32098\n",
      "26 \t58    \t1.308\t1.31675\n",
      "27 \t57    \t1.307\t1.31374\n",
      "28 \t54    \t1.303\t1.31182\n",
      "29 \t53    \t1.297\t1.30938\n",
      "30 \t50    \t1.296\t1.30667\n",
      "31 \t52    \t1.294\t1.30319\n",
      "32 \t54    \t1.291\t1.29944\n",
      "33 \t56    \t1.284\t1.29604\n",
      "34 \t56    \t1.279\t1.29231\n",
      "35 \t51    \t1.279\t1.28843\n",
      "36 \t56    \t1.273\t1.28546\n",
      "37 \t61    \t1.273\t1.28224\n",
      "38 \t52    \t1.27 \t1.27894\n",
      "39 \t54    \t1.258\t1.27544\n",
      "40 \t57    \t1.258\t1.27193\n",
      "41 \t58    \t1.256\t1.26717\n",
      "42 \t56    \t1.253\t1.26292\n",
      "43 \t59    \t1.252\t1.25916\n",
      "44 \t58    \t1.247\t1.25704\n",
      "45 \t56    \t1.247\t1.25423\n",
      "46 \t60    \t1.241\t1.25164\n",
      "47 \t55    \t1.241\t1.24831\n",
      "48 \t56    \t1.236\t1.24513\n",
      "49 \t56    \t1.235\t1.24251\n",
      "50 \t56    \t1.231\t1.2396 \n",
      "51 \t57    \t1.227\t1.23698\n",
      "52 \t51    \t1.225\t1.23418\n",
      "53 \t54    \t1.225\t1.23115\n",
      "54 \t61    \t1.221\t1.22855\n",
      "55 \t54    \t1.22 \t1.2256 \n",
      "56 \t55    \t1.217\t1.22441\n",
      "57 \t55    \t1.213\t1.2211 \n",
      "58 \t54    \t1.213\t1.21911\n",
      "59 \t54    \t1.209\t1.21672\n",
      "60 \t58    \t1.207\t1.21456\n",
      "61 \t55    \t1.205\t1.21213\n",
      "62 \t51    \t1.203\t1.2101 \n",
      "63 \t49    \t1.198\t1.20756\n",
      "64 \t53    \t1.196\t1.20511\n",
      "65 \t58    \t1.195\t1.20238\n",
      "66 \t55    \t1.193\t1.1994 \n",
      "67 \t59    \t1.189\t1.19673\n",
      "68 \t51    \t1.187\t1.19454\n",
      "69 \t53    \t1.182\t1.19158\n",
      "70 \t45    \t1.18 \t1.18902\n",
      "71 \t56    \t1.178\t1.18627\n",
      "72 \t47    \t1.178\t1.18339\n",
      "73 \t52    \t1.173\t1.18156\n",
      "74 \t53    \t1.17 \t1.17923\n",
      "75 \t60    \t1.166\t1.17717\n",
      "76 \t63    \t1.166\t1.17456\n",
      "77 \t47    \t1.158\t1.17134\n",
      "78 \t56    \t1.158\t1.16806\n",
      "79 \t58    \t1.157\t1.16517\n",
      "80 \t52    \t1.155\t1.16163\n",
      "81 \t51    \t1.151\t1.15874\n",
      "82 \t53    \t1.147\t1.15671\n",
      "83 \t60    \t1.144\t1.15379\n",
      "84 \t52    \t1.142\t1.15061\n",
      "85 \t59    \t1.141\t1.14821\n",
      "86 \t54    \t1.135\t1.14556\n",
      "87 \t59    \t1.135\t1.14202\n",
      "88 \t62    \t1.131\t1.1388 \n",
      "89 \t52    \t1.127\t1.13583\n",
      "90 \t49    \t1.127\t1.13403\n",
      "91 \t55    \t1.126\t1.13146\n",
      "92 \t63    \t1.124\t1.12952\n",
      "93 \t63    \t1.119\t1.12797\n",
      "94 \t51    \t1.119\t1.12547\n",
      "95 \t60    \t1.116\t1.12368\n",
      "96 \t54    \t1.115\t1.12183\n",
      "97 \t54    \t1.112\t1.11971\n",
      "98 \t61    \t1.104\t1.11722\n",
      "99 \t61    \t1.104\t1.11505\n",
      "100\t60    \t1.104\t1.11239\n"
     ]
    },
    {
     "data": {
      "image/png": "[encoded data removed]",
      "text/plain": [
       "<Figure size 432x288 with 1 Axes>"
      ]
     },
     "metadata": {},
     "output_type": "display_data"
    },
    {
     "name": "stdout",
     "output_type": "stream",
     "text": [
      "train accuracy: 70.33492822966508 %\n",
      "test accuracy: 58.0 %\n"
     ]
    }
   ],
   "source": [
    "# BOUND_LOW, BOUND_UP = -0.5, 0.5\n",
    "Result = model(toolbox, train_set_x, train_set_y, test_set_x, test_set_y)\n"
   ]
  },
  {
   "cell_type": "code",
   "execution_count": 47,
   "metadata": {
    "scrolled": true
   },
   "outputs": [
    {
     "name": "stdout",
     "output_type": "stream",
     "text": [
      "gen\tnevals\tmin  \tavg    \n",
      "0  \t100   \t0.771\t1.46543\n",
      "1  \t58    \t0.771\t0.9899 \n",
      "2  \t53    \t0.722\t0.90938\n",
      "3  \t61    \t0.706\t0.87544\n",
      "4  \t51    \t0.706\t0.88109\n",
      "5  \t56    \t0.675\t0.89101\n",
      "6  \t54    \t0.643\t0.82273\n",
      "7  \t58    \t0.643\t0.78794\n",
      "8  \t56    \t0.643\t0.76938\n",
      "9  \t59    \t0.643\t0.72664\n",
      "10 \t62    \t0.612\t0.72597\n",
      "11 \t59    \t0.612\t0.67766\n",
      "12 \t47    \t0.593\t0.65913\n",
      "13 \t63    \t0.593\t0.68578\n",
      "14 \t62    \t0.593\t0.64169\n",
      "15 \t60    \t0.589\t0.62839\n",
      "16 \t59    \t0.577\t0.61321\n",
      "17 \t61    \t0.568\t0.60937\n",
      "18 \t51    \t0.568\t0.59778\n",
      "19 \t54    \t0.563\t0.5909 \n",
      "20 \t61    \t0.563\t0.58798\n",
      "21 \t53    \t0.553\t0.58162\n",
      "22 \t55    \t0.553\t0.57064\n",
      "23 \t60    \t0.539\t0.57775\n",
      "24 \t56    \t0.539\t0.56588\n",
      "25 \t53    \t0.539\t0.56069\n",
      "26 \t45    \t0.539\t0.55624\n",
      "27 \t53    \t0.532\t0.55899\n",
      "28 \t56    \t0.532\t0.54795\n",
      "29 \t58    \t0.527\t0.54504\n",
      "30 \t60    \t0.526\t0.539  \n",
      "31 \t57    \t0.526\t0.53629\n",
      "32 \t59    \t0.524\t0.53528\n",
      "33 \t56    \t0.524\t0.53071\n",
      "34 \t58    \t0.524\t0.52796\n",
      "35 \t57    \t0.524\t0.52631\n",
      "36 \t57    \t0.52 \t0.526  \n",
      "37 \t61    \t0.52 \t0.52581\n",
      "38 \t58    \t0.52 \t0.5235 \n",
      "39 \t46    \t0.518\t0.52188\n",
      "40 \t56    \t0.516\t0.5209 \n",
      "41 \t54    \t0.515\t0.51965\n",
      "42 \t56    \t0.515\t0.51881\n",
      "43 \t56    \t0.514\t0.51746\n",
      "44 \t54    \t0.513\t0.51606\n",
      "45 \t53    \t0.512\t0.51525\n",
      "46 \t64    \t0.511\t0.51456\n",
      "47 \t52    \t0.51 \t0.51361\n",
      "48 \t58    \t0.51 \t0.51294\n",
      "49 \t49    \t0.51 \t0.51222\n",
      "50 \t57    \t0.509\t0.51209\n",
      "51 \t56    \t0.508\t0.51082\n",
      "52 \t58    \t0.508\t0.50997\n",
      "53 \t56    \t0.507\t0.50913\n",
      "54 \t54    \t0.506\t0.5083 \n",
      "55 \t49    \t0.505\t0.50771\n",
      "56 \t53    \t0.505\t0.50717\n",
      "57 \t56    \t0.504\t0.50641\n",
      "58 \t66    \t0.504\t0.50562\n",
      "59 \t53    \t0.503\t0.50487\n",
      "60 \t52    \t0.502\t0.50441\n",
      "61 \t54    \t0.502\t0.50372\n",
      "62 \t50    \t0.502\t0.50303\n",
      "63 \t50    \t0.501\t0.50261\n",
      "64 \t48    \t0.501\t0.50212\n",
      "65 \t56    \t0.501\t0.50208\n",
      "66 \t60    \t0.501\t0.50178\n",
      "67 \t51    \t0.5  \t0.50135\n",
      "68 \t51    \t0.5  \t0.50107\n",
      "69 \t58    \t0.5  \t0.50072\n",
      "70 \t46    \t0.499\t0.50028\n",
      "71 \t46    \t0.499\t0.50017\n",
      "72 \t47    \t0.499\t0.49997\n",
      "73 \t55    \t0.498\t0.49981\n",
      "74 \t56    \t0.498\t0.4994 \n",
      "75 \t59    \t0.498\t0.49908\n",
      "76 \t55    \t0.498\t0.49886\n",
      "77 \t59    \t0.498\t0.49852\n",
      "78 \t55    \t0.497\t0.49819\n",
      "79 \t52    \t0.497\t0.49808\n",
      "80 \t61    \t0.497\t0.49808\n",
      "81 \t53    \t0.496\t0.49778\n",
      "82 \t57    \t0.496\t0.49734\n",
      "83 \t54    \t0.496\t0.49703\n",
      "84 \t47    \t0.495\t0.49668\n",
      "85 \t59    \t0.495\t0.49625\n",
      "86 \t51    \t0.495\t0.49597\n",
      "87 \t65    \t0.495\t0.4957 \n",
      "88 \t55    \t0.494\t0.49523\n",
      "89 \t50    \t0.494\t0.49508\n",
      "90 \t53    \t0.494\t0.49494\n",
      "91 \t59    \t0.493\t0.4946 \n",
      "92 \t52    \t0.493\t0.49413\n",
      "93 \t50    \t0.493\t0.49403\n",
      "94 \t52    \t0.493\t0.49396\n",
      "95 \t55    \t0.493\t0.49381\n",
      "96 \t51    \t0.492\t0.4934 \n",
      "97 \t55    \t0.492\t0.49318\n",
      "98 \t48    \t0.492\t0.49308\n",
      "99 \t51    \t0.492\t0.49297\n",
      "100\t56    \t0.492\t0.49277\n"
     ]
    },
    {
     "data": {
      "image/png": "[encoded data removed]",
      "text/plain": [
       "<Figure size 432x288 with 1 Axes>"
      ]
     },
     "metadata": {},
     "output_type": "display_data"
    },
    {
     "name": "stdout",
     "output_type": "stream",
     "text": [
      "train accuracy: 76.55502392344498 %\n",
      "test accuracy: 66.0 %\n"
     ]
    }
   ],
   "source": [
    "# BOUND_LOW, BOUND_UP = -0.1, 0.1\n",
    "Result = model(toolbox, train_set_x, train_set_y, test_set_x, test_set_y)"
   ]
  },
  {
   "cell_type": "markdown",
   "metadata": {},
   "source": [
    "#### Notes\n",
    "- The bounding range improves the GA choice of values since it is less space to search in.\n",
    "- From the two graphs we see that the min and average fitness converge early on approximately the Geneartion 40.We conclude that \n",
    "  the diversity inside the population disapears quickly.\n",
    "- To keep the population diversified maybe change : \n",
    "    P_MUTATION : increse probability of mutation of individual\n",
    "    HALL_OF_FAME_SIZE : minimise number of best solutions passed"
   ]
  },
  {
   "cell_type": "code",
   "execution_count": 50,
   "metadata": {
    "scrolled": true
   },
   "outputs": [
    {
     "name": "stdout",
     "output_type": "stream",
     "text": [
      "gen\tnevals\tmin  \tavg    \n",
      "0  \t100   \t0.771\t1.46543\n",
      "1  \t64    \t0.763\t0.97667\n",
      "2  \t68    \t0.714\t0.97071\n",
      "3  \t58    \t0.714\t0.87276\n",
      "4  \t64    \t0.691\t0.80997\n",
      "5  \t62    \t0.689\t0.81111\n",
      "6  \t71    \t0.669\t0.81154\n",
      "7  \t67    \t0.669\t0.77923\n",
      "8  \t66    \t0.627\t0.7431 \n",
      "9  \t73    \t0.622\t0.7175 \n",
      "10 \t64    \t0.61 \t0.74455\n",
      "11 \t65    \t0.61 \t0.6892 \n",
      "12 \t68    \t0.602\t0.66283\n",
      "13 \t69    \t0.602\t0.62883\n",
      "14 \t68    \t0.596\t0.6255 \n",
      "15 \t78    \t0.596\t0.64238\n",
      "16 \t66    \t0.583\t0.62473\n",
      "17 \t67    \t0.581\t0.61421\n",
      "18 \t72    \t0.562\t0.62368\n",
      "19 \t73    \t0.557\t0.60044\n",
      "20 \t73    \t0.557\t0.59567\n",
      "21 \t70    \t0.554\t0.5994 \n",
      "22 \t64    \t0.545\t0.58325\n",
      "23 \t68    \t0.537\t0.57174\n",
      "24 \t69    \t0.536\t0.57145\n",
      "25 \t68    \t0.533\t0.55576\n",
      "26 \t66    \t0.527\t0.54757\n",
      "27 \t57    \t0.523\t0.53688\n",
      "28 \t66    \t0.523\t0.53582\n",
      "29 \t71    \t0.517\t0.5304 \n",
      "30 \t67    \t0.517\t0.5276 \n",
      "31 \t72    \t0.51 \t0.52447\n",
      "32 \t70    \t0.51 \t0.52048\n",
      "33 \t60    \t0.51 \t0.5167 \n",
      "34 \t70    \t0.507\t0.51428\n",
      "35 \t74    \t0.505\t0.512  \n",
      "36 \t68    \t0.505\t0.50968\n",
      "37 \t75    \t0.503\t0.50794\n",
      "38 \t68    \t0.498\t0.50746\n",
      "39 \t75    \t0.497\t0.50523\n",
      "40 \t60    \t0.497\t0.50297\n",
      "41 \t65    \t0.496\t0.50175\n",
      "42 \t74    \t0.494\t0.49945\n",
      "43 \t67    \t0.494\t0.49782\n",
      "44 \t74    \t0.492\t0.49641\n",
      "45 \t66    \t0.492\t0.49504\n",
      "46 \t74    \t0.49 \t0.49405\n",
      "47 \t69    \t0.489\t0.49271\n",
      "48 \t81    \t0.489\t0.49185\n",
      "49 \t71    \t0.488\t0.49071\n",
      "50 \t63    \t0.486\t0.48982\n",
      "51 \t67    \t0.486\t0.48892\n",
      "52 \t68    \t0.486\t0.48856\n",
      "53 \t65    \t0.485\t0.4875 \n",
      "54 \t59    \t0.485\t0.48676\n",
      "55 \t67    \t0.484\t0.48603\n",
      "56 \t69    \t0.484\t0.48534\n",
      "57 \t64    \t0.483\t0.48468\n",
      "58 \t68    \t0.482\t0.48447\n",
      "59 \t64    \t0.482\t0.4839 \n",
      "60 \t73    \t0.482\t0.48339\n",
      "61 \t60    \t0.481\t0.48279\n",
      "62 \t78    \t0.481\t0.48233\n",
      "63 \t80    \t0.48 \t0.48189\n",
      "64 \t60    \t0.48 \t0.4813 \n",
      "65 \t70    \t0.48 \t0.48104\n",
      "66 \t68    \t0.479\t0.4807 \n",
      "67 \t68    \t0.479\t0.48022\n",
      "68 \t69    \t0.478\t0.47995\n",
      "69 \t70    \t0.478\t0.47925\n",
      "70 \t63    \t0.477\t0.47872\n",
      "71 \t64    \t0.477\t0.47814\n",
      "72 \t74    \t0.477\t0.47809\n",
      "73 \t67    \t0.477\t0.47778\n",
      "74 \t74    \t0.476\t0.47737\n",
      "75 \t56    \t0.476\t0.47691\n",
      "76 \t64    \t0.475\t0.47651\n",
      "77 \t65    \t0.475\t0.47616\n",
      "78 \t71    \t0.474\t0.47588\n",
      "79 \t60    \t0.474\t0.47527\n",
      "80 \t74    \t0.474\t0.47495\n",
      "81 \t73    \t0.473\t0.47452\n",
      "82 \t69    \t0.473\t0.47416\n",
      "83 \t59    \t0.472\t0.47368\n",
      "84 \t72    \t0.471\t0.47304\n",
      "85 \t69    \t0.471\t0.47246\n",
      "86 \t66    \t0.471\t0.47208\n",
      "87 \t76    \t0.471\t0.47159\n",
      "88 \t69    \t0.47 \t0.47123\n",
      "89 \t69    \t0.47 \t0.47102\n",
      "90 \t75    \t0.469\t0.47074\n",
      "91 \t67    \t0.469\t0.47039\n",
      "92 \t66    \t0.468\t0.47013\n",
      "93 \t66    \t0.468\t0.46981\n",
      "94 \t66    \t0.468\t0.46926\n",
      "95 \t75    \t0.468\t0.46864\n",
      "96 \t67    \t0.467\t0.46822\n",
      "97 \t69    \t0.466\t0.46788\n",
      "98 \t69    \t0.466\t0.46748\n",
      "99 \t63    \t0.466\t0.46692\n",
      "100\t70    \t0.465\t0.46654\n"
     ]
    },
    {
     "data": {
      "image/png": "[encoded data removed]",
      "text/plain": [
       "<Figure size 432x288 with 1 Axes>"
      ]
     },
     "metadata": {},
     "output_type": "display_data"
    },
    {
     "name": "stdout",
     "output_type": "stream",
     "text": [
      "train accuracy: 81.33971291866028 %\n",
      "test accuracy: 54.0 %\n"
     ]
    }
   ],
   "source": [
    "# P_CROSSOVER = 0.6, P_MUTATION = 0.4, HALL_OF_FAME_SIZE = 10 \n",
    "Result = model(toolbox, train_set_x, train_set_y, test_set_x, test_set_y)"
   ]
  },
  {
   "cell_type": "markdown",
   "metadata": {},
   "source": [
    "- Achieving more on the training set doesn't necessarly means that it will perform better on the test set"
   ]
  },
  {
   "cell_type": "code",
   "execution_count": 55,
   "metadata": {},
   "outputs": [
    {
     "name": "stdout",
     "output_type": "stream",
     "text": [
      "gen\tnevals\tmin  \tavg    \n",
      "0  \t100   \t0.771\t1.46543\n",
      "1  \t68    \t0.771\t1.02503\n",
      "2  \t66    \t0.73 \t0.95984\n",
      "3  \t74    \t0.73 \t0.98152\n",
      "4  \t67    \t0.726\t0.9101 \n",
      "5  \t64    \t0.71 \t0.85006\n",
      "6  \t65    \t0.679\t0.8373 \n",
      "7  \t72    \t0.661\t0.8359 \n",
      "8  \t68    \t0.661\t0.79814\n",
      "9  \t71    \t0.643\t0.76927\n",
      "10 \t68    \t0.621\t0.78521\n",
      "11 \t69    \t0.607\t0.73339\n",
      "12 \t70    \t0.586\t0.73494\n",
      "13 \t68    \t0.586\t0.70797\n",
      "14 \t73    \t0.572\t0.67897\n",
      "15 \t72    \t0.565\t0.68997\n",
      "16 \t71    \t0.565\t0.6223 \n",
      "17 \t65    \t0.552\t0.61038\n",
      "18 \t66    \t0.552\t0.60557\n",
      "19 \t65    \t0.547\t0.57607\n",
      "20 \t66    \t0.542\t0.57464\n",
      "21 \t63    \t0.534\t0.56496\n",
      "22 \t65    \t0.53 \t0.5597 \n",
      "23 \t69    \t0.528\t0.55846\n",
      "24 \t67    \t0.518\t0.54838\n",
      "25 \t66    \t0.518\t0.54234\n",
      "26 \t69    \t0.511\t0.54322\n",
      "27 \t60    \t0.503\t0.53506\n",
      "28 \t65    \t0.498\t0.52928\n",
      "29 \t66    \t0.498\t0.52709\n",
      "30 \t73    \t0.498\t0.52292\n",
      "31 \t62    \t0.491\t0.51743\n",
      "32 \t71    \t0.491\t0.51499\n",
      "33 \t64    \t0.489\t0.50427\n",
      "34 \t74    \t0.484\t0.50503\n",
      "35 \t70    \t0.478\t0.50212\n",
      "36 \t65    \t0.472\t0.49462\n",
      "37 \t75    \t0.471\t0.49488\n",
      "38 \t69    \t0.471\t0.48824\n",
      "39 \t63    \t0.466\t0.48483\n",
      "40 \t69    \t0.463\t0.48414\n",
      "41 \t65    \t0.463\t0.47885\n",
      "42 \t67    \t0.462\t0.47676\n",
      "43 \t53    \t0.458\t0.47309\n",
      "44 \t62    \t0.457\t0.47043\n",
      "45 \t67    \t0.457\t0.46631\n",
      "46 \t74    \t0.456\t0.46522\n",
      "47 \t67    \t0.455\t0.46522\n",
      "48 \t63    \t0.447\t0.46133\n",
      "49 \t73    \t0.447\t0.46205\n",
      "50 \t72    \t0.447\t0.45972\n",
      "51 \t70    \t0.447\t0.45905\n",
      "52 \t73    \t0.445\t0.45338\n",
      "53 \t63    \t0.443\t0.4546 \n",
      "54 \t68    \t0.442\t0.45095\n",
      "55 \t67    \t0.442\t0.44906\n",
      "56 \t71    \t0.44 \t0.44934\n",
      "57 \t69    \t0.44 \t0.44705\n",
      "58 \t66    \t0.439\t0.44705\n",
      "59 \t57    \t0.439\t0.44548\n",
      "60 \t72    \t0.438\t0.44668\n",
      "61 \t62    \t0.438\t0.4442 \n",
      "62 \t65    \t0.434\t0.44153\n",
      "63 \t76    \t0.433\t0.44232\n",
      "64 \t66    \t0.431\t0.43954\n",
      "65 \t71    \t0.431\t0.43894\n",
      "66 \t70    \t0.431\t0.43852\n",
      "67 \t68    \t0.43 \t0.43904\n",
      "68 \t68    \t0.429\t0.43526\n",
      "69 \t62    \t0.428\t0.43527\n",
      "70 \t55    \t0.427\t0.43241\n",
      "71 \t60    \t0.427\t0.4315 \n",
      "72 \t71    \t0.423\t0.43211\n",
      "73 \t71    \t0.423\t0.43158\n",
      "74 \t65    \t0.421\t0.42913\n",
      "75 \t68    \t0.421\t0.42934\n",
      "76 \t73    \t0.42 \t0.42684\n",
      "77 \t70    \t0.42 \t0.4257 \n",
      "78 \t66    \t0.418\t0.42551\n",
      "79 \t60    \t0.418\t0.42458\n",
      "80 \t66    \t0.417\t0.42349\n",
      "81 \t68    \t0.417\t0.42213\n",
      "82 \t68    \t0.416\t0.42187\n",
      "83 \t67    \t0.415\t0.42067\n",
      "84 \t67    \t0.414\t0.4196 \n",
      "85 \t72    \t0.414\t0.41916\n",
      "86 \t66    \t0.411\t0.4183 \n",
      "87 \t68    \t0.411\t0.41718\n",
      "88 \t68    \t0.41 \t0.41588\n",
      "89 \t65    \t0.41 \t0.41751\n",
      "90 \t68    \t0.409\t0.41466\n",
      "91 \t70    \t0.407\t0.41332\n",
      "92 \t65    \t0.407\t0.41373\n",
      "93 \t74    \t0.407\t0.41294\n",
      "94 \t73    \t0.405\t0.4136 \n",
      "95 \t71    \t0.405\t0.41075\n",
      "96 \t70    \t0.404\t0.41006\n",
      "97 \t64    \t0.403\t0.40766\n",
      "98 \t71    \t0.403\t0.40712\n",
      "99 \t66    \t0.401\t0.40755\n",
      "100\t61    \t0.399\t0.40606\n"
     ]
    },
    {
     "data": {
      "image/png": "[encoded data removed]",
      "text/plain": [
       "<Figure size 432x288 with 1 Axes>"
      ]
     },
     "metadata": {},
     "output_type": "display_data"
    },
    {
     "name": "stdout",
     "output_type": "stream",
     "text": [
      "train accuracy: 84.68899521531101 %\n",
      "test accuracy: 60.0 %\n"
     ]
    }
   ],
   "source": [
    "# increse ipnb to 1000 : probability of mutation inside each individual(weights mutations), P_CROSSOVER = 0.8, P_MUTATION = 0.2 \n",
    "Result = model(toolbox, train_set_x, train_set_y, test_set_x, test_set_y)"
   ]
  },
  {
   "cell_type": "markdown",
   "metadata": {},
   "source": [
    "#### Notes\n",
    "- increasing the ipnb keeps the population diversified more since the mean and min not exactly the same through generations.\n",
    "- The slope of the graph after Geneartion 40 is largely negative due to the mutation aspect."
   ]
  },
  {
   "cell_type": "markdown",
   "metadata": {},
   "source": [
    "### Conclusion\n",
    "\n",
    "- GA is difficult to train , due to the high number of parameters and dimensions of search space, and with no guidance from the outside world but the value of the cost function.\n",
    "\n",
    "- GA is suited for problems that are too complex to find a mathematical representation or where the loss function contains too many local minimums. In this problem, the backpropagation Algorithm is expected to outperform the GA, since the cost function is differentiable, and the weight update is performed intelligently with the calculation of gradients.\n",
    "\n",
    "- A more suited approach is to combine both algorithms to benefit from the global optimisation aspect of the GA and prevent Backprop Algorithms in getting stucked in local minimums.\n"
   ]
  }
 ],
 "metadata": {
  "kernelspec": {
   "display_name": "Python 3",
   "language": "python",
   "name": "python3"
  },
  "language_info": {
   "codemirror_mode": {
    "name": "ipython",
    "version": 3
   },
   "file_extension": ".py",
   "mimetype": "text/x-python",
   "name": "python",
   "nbconvert_exporter": "python",
   "pygments_lexer": "ipython3",
   "version": "3.6.0"
  }
 },
 "nbformat": 4,
 "nbformat_minor": 2
}
